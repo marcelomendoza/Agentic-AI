{
 "cells": [
  {
   "cell_type": "markdown",
   "id": "e69236f9",
   "metadata": {},
   "source": [
    "# Agentic AI"
   ]
  },
  {
   "cell_type": "code",
   "execution_count": 1,
   "id": "4a81dcb8",
   "metadata": {},
   "outputs": [],
   "source": [
    "from IPython.display import display, Math, Latex\n",
    "\n",
    "import dspy"
   ]
  },
  {
   "cell_type": "code",
   "execution_count": 2,
   "id": "fcd16ac0",
   "metadata": {},
   "outputs": [],
   "source": [
    "lm = dspy.LM('openai/gpt-4o-mini', api_key='API_KEY')\n",
    "\n",
    "dspy.configure(lm=lm)"
   ]
  },
  {
   "cell_type": "markdown",
   "id": "08fa8317-5394-44fd-b401-374ae5b4c146",
   "metadata": {},
   "source": [
    "### COT le pide al LLM que argumente su resultado"
   ]
  },
  {
   "cell_type": "code",
   "execution_count": 3,
   "id": "f64a1a0b",
   "metadata": {},
   "outputs": [
    {
     "data": {
      "text/latex": [
       "When two dice are tossed, each die has 6 faces, resulting in a total of 6 * 6 = 36 possible outcomes. The only way to achieve a sum of 2 is if both dice show a 1 (i.e., (1,1)). There is only 1 favorable outcome for this event. Therefore, the probability of the sum equaling 2 is the number of favorable outcomes divided by the total number of outcomes, which is 1/36."
      ],
      "text/plain": [
       "<IPython.core.display.Latex object>"
      ]
     },
     "metadata": {},
     "output_type": "display_data"
    }
   ],
   "source": [
    "math = dspy.ChainOfThought(\"question -> answer: float\")\n",
    "output = math(question=\"Two dice are tossed. What is the probability that the sum equals two?\")\n",
    "display(Latex(output.reasoning))"
   ]
  },
  {
   "cell_type": "markdown",
   "id": "cdbe18ac-cfd4-4a86-a3e4-78682218ce41",
   "metadata": {},
   "source": [
    "### RAG define como contexto de búsqueda wiki17, con top-k resultados. En base a estos 3 resultados, el modelo responde."
   ]
  },
  {
   "cell_type": "code",
   "execution_count": 4,
   "id": "8d3fb378-5fd6-4ee0-9f71-50586228d0be",
   "metadata": {},
   "outputs": [
    {
     "data": {
      "text/plain": [
       "Prediction(\n",
       "    reasoning='The context mentions that David Gregory inherited Kinnairdy Castle in 1664. This information directly answers the question regarding the name of the castle he inherited.',\n",
       "    response='The name of the castle that David Gregory inherited is Kinnairdy Castle.'\n",
       ")"
      ]
     },
     "execution_count": 4,
     "metadata": {},
     "output_type": "execute_result"
    }
   ],
   "source": [
    "def search_wikipedia(query: str) -> list[str]:\n",
    "    results = dspy.ColBERTv2(url='http://20.102.90.50:2017/wiki17_abstracts')(query, k=3)\n",
    "    return [x['text'] for x in results]\n",
    "\n",
    "rag = dspy.ChainOfThought('context, question -> response')\n",
    "\n",
    "question = \"What's the name of the castle that David Gregory inherited?\"\n",
    "rag(context=search_wikipedia(question), question=question)"
   ]
  },
  {
   "cell_type": "markdown",
   "id": "17126e5d-c67b-4420-addd-ad18d888550e",
   "metadata": {},
   "source": [
    "### ReAct define herramientas para ejecutar acciones. Tiene entonces acceso al ambiente (search) y puede tomar acciones (evaluate), lo cual lo define como un agente. "
   ]
  },
  {
   "cell_type": "code",
   "execution_count": 5,
   "id": "329b44f0-7edb-4a16-af92-ad89050c578d",
   "metadata": {},
   "outputs": [
    {
     "name": "stdout",
     "output_type": "stream",
     "text": [
      "5761.328\n"
     ]
    }
   ],
   "source": [
    "def evaluate_math(expression: str):\n",
    "    return dspy.PythonInterpreter({}).execute(expression)\n",
    "\n",
    "react = dspy.ReAct(\"question -> answer: float\", tools=[evaluate_math, search_wikipedia])\n",
    "\n",
    "pred = react(question=\"What is 9362158 divided by the year of birth of David Gregory of Kinnairdy castle?\")\n",
    "print(pred.answer)"
   ]
  },
  {
   "cell_type": "code",
   "execution_count": null,
   "id": "05df03bf-326e-4088-b65b-b930fccfa147",
   "metadata": {},
   "outputs": [],
   "source": []
  }
 ],
 "metadata": {
  "kernelspec": {
   "display_name": "Python 3 (ipykernel)",
   "language": "python",
   "name": "python3"
  },
  "language_info": {
   "codemirror_mode": {
    "name": "ipython",
    "version": 3
   },
   "file_extension": ".py",
   "mimetype": "text/x-python",
   "name": "python",
   "nbconvert_exporter": "python",
   "pygments_lexer": "ipython3",
   "version": "3.10.12"
  }
 },
 "nbformat": 4,
 "nbformat_minor": 5
}
