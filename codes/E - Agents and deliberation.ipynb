{
 "cells": [
  {
   "cell_type": "markdown",
   "id": "a8a11c48",
   "metadata": {},
   "source": [
    "# Summer Institute in Computational Social Science 2025"
   ]
  },
  {
   "cell_type": "code",
   "execution_count": 1,
   "id": "372f8066-8308-4326-8528-a7275110dadb",
   "metadata": {},
   "outputs": [],
   "source": [
    "import dspy\n",
    "\n",
    "lm1 = dspy.LM('openai/gpt-4o', api_key='API_KEY')\n",
    "lm2 = dspy.LM('openai/gpt-4o-mini', api_key='API_KEY')"
   ]
  },
  {
   "cell_type": "code",
   "execution_count": 2,
   "id": "636d6633-b7a7-411f-9a2b-f64174925f47",
   "metadata": {},
   "outputs": [],
   "source": [
    "dspy.configure(lm=lm1)\n",
    "\n",
    "context_ = \"You are in a deliberation about euthanasia with another person\"\n",
    "trigger = \"Answer to the previous question, then argue about euthanasia and pose a question to your opponent\"\n",
    "\n",
    "leftist_agent = dspy.ChainOfThought(\"profile, context, question -> response\")\n",
    "profile_1 = \"Act as the following person: Name: Sarah Martinez, Initial Belief: Strongly Positive opinion about euthanasia, Political leaning: Lean Democrat Age: 28 Gender: Female Ethnicity: Hispanic  Education: Master’s Degree in Film Studies  Occupation: Film Critic\"\n",
    "output_1 = leftist_agent(profile=profile_1, context=context_, question=trigger)"
   ]
  },
  {
   "cell_type": "code",
   "execution_count": 3,
   "id": "d2734796-72f3-481a-964e-67fac5d2630d",
   "metadata": {},
   "outputs": [
    {
     "data": {
      "text/plain": [
       "Prediction(\n",
       "    reasoning='As Sarah Martinez, I have a strong positive opinion about euthanasia, which likely stems from a belief in personal autonomy and compassion for those suffering. My political leaning as a Democrat may also influence my perspective, as the party often supports individual rights and healthcare choices. In a deliberation, I would focus on the ethical considerations of allowing individuals to choose a dignified end to their life, especially in cases of terminal illness or unbearable suffering. I would also consider the importance of legal safeguards to ensure that euthanasia is a well-regulated and consensual process.',\n",
       "    response='In our previous discussion, I emphasized the importance of personal autonomy and the compassionate choice that euthanasia can represent for those suffering from terminal illnesses. I believe that individuals should have the right to decide how and when they end their life, especially when faced with unbearable pain and no hope for recovery. This choice can provide a sense of control and dignity in their final days.\\n\\nNow, I would like to ask you: How do you reconcile the potential for prolonged suffering with the denial of euthanasia as an option for those who are terminally ill and wish to end their life on their own terms?'\n",
       ")"
      ]
     },
     "execution_count": 3,
     "metadata": {},
     "output_type": "execute_result"
    }
   ],
   "source": [
    "output_1"
   ]
  },
  {
   "cell_type": "code",
   "execution_count": 4,
   "id": "fb72e04d-f3fb-48ee-8e2e-435ce2b7acc8",
   "metadata": {},
   "outputs": [],
   "source": [
    "right_wing_agent = dspy.ChainOfThought(\"profile, context, question -> response\")\n",
    "profile_2 = \"Act as the following person: Name: Sophia Nguyen  Initial Belief: Slightly Negative opinion about euthanasia Political leaning: Lean Republican Age: 24 Gender: Female  Ethnicity: Asian American Education: Student  (Undergraduate, Political Science) Occupation: Intern at Law Firm\"\n",
    "output_2 = right_wing_agent(profile=profile_2, context=context_, question=trigger+output_1.response)"
   ]
  },
  {
   "cell_type": "code",
   "execution_count": 5,
   "id": "442cb1ab-79aa-4f2a-816e-c1072a53bb3b",
   "metadata": {},
   "outputs": [
    {
     "data": {
      "text/plain": [
       "Prediction(\n",
       "    reasoning=\"Given Sophia's profile, she is likely to approach the topic of euthanasia with caution due to her slightly negative opinion and her political leaning. She might focus on the ethical and moral implications, as well as the potential for abuse or slippery slope arguments. Sophia might also consider the role of palliative care and the importance of preserving life. Her response could include questioning the safeguards in place to prevent misuse of euthanasia and emphasizing the value of life, even in difficult circumstances.\",\n",
       "    response='While I understand the argument for personal autonomy and the desire to avoid prolonged suffering, I have concerns about the potential implications of legalizing euthanasia. One of my main worries is the possibility of a slippery slope, where the criteria for euthanasia could gradually expand beyond terminally ill patients to include those with non-terminal conditions or even psychological distress. This could lead to vulnerable individuals feeling pressured to choose euthanasia due to societal or familial expectations.\\n\\nAdditionally, I believe that we should focus on improving palliative care and pain management to ensure that patients can live their final days with dignity and as little suffering as possible. There is also the ethical consideration of the sanctity of life and whether it is right for us to actively end it, even with consent.\\n\\nMy question to you is: How do you propose we ensure that euthanasia is not misused or expanded beyond its intended scope, and what safeguards would you put in place to protect vulnerable individuals?'\n",
       ")"
      ]
     },
     "execution_count": 5,
     "metadata": {},
     "output_type": "execute_result"
    }
   ],
   "source": [
    "output_2"
   ]
  },
  {
   "cell_type": "code",
   "execution_count": 6,
   "id": "c73a4694-7be4-4d96-b8bf-71a4f4b692a7",
   "metadata": {},
   "outputs": [],
   "source": [
    "output_3 = leftist_agent(profile=profile_1, context=context_, question=trigger+output_2.response)"
   ]
  },
  {
   "cell_type": "code",
   "execution_count": 7,
   "id": "ae3674eb-3936-4605-9054-563babbb9caa",
   "metadata": {},
   "outputs": [
    {
     "data": {
      "text/plain": [
       "Prediction(\n",
       "    reasoning='As Sarah Martinez, I have a strong positive opinion about euthanasia, which means I believe in the importance of personal autonomy and the right to choose a dignified end to life. I understand the concerns about a slippery slope and the potential for misuse, but I also believe that with proper regulations and safeguards, these risks can be mitigated. My approach would be to emphasize the importance of strict criteria and oversight to ensure that euthanasia is only available to those who truly need it and have made an informed decision. I also believe that improving palliative care and euthanasia are not mutually exclusive; both can coexist to provide comprehensive end-of-life care.',\n",
       "    response=\"I appreciate your concerns about the potential for misuse and the slippery slope argument. It's crucial to have a robust framework in place to prevent such scenarios. I believe that strict eligibility criteria, thorough psychological evaluations, and multiple layers of consent can serve as effective safeguards. These measures would ensure that only those who are fully informed and genuinely wish to pursue euthanasia can do so. Additionally, regular reviews and audits of euthanasia cases by independent bodies could help maintain transparency and accountability.\\n\\nWhile improving palliative care is essential, I see it as complementary to the option of euthanasia. Both can work together to provide a full spectrum of end-of-life care, allowing individuals to choose the path that aligns with their values and circumstances. \\n\\nMy question to you is: How do you reconcile the desire to respect individual autonomy with the need to protect vulnerable individuals, and do you believe there is a way to balance these priorities effectively?\"\n",
       ")"
      ]
     },
     "execution_count": 7,
     "metadata": {},
     "output_type": "execute_result"
    }
   ],
   "source": [
    "output_3"
   ]
  },
  {
   "cell_type": "code",
   "execution_count": 8,
   "id": "a4ebe690-8e96-4b1e-89c0-b181f14fefba",
   "metadata": {},
   "outputs": [],
   "source": [
    "output_4 = right_wing_agent(profile=profile_2, context=context_, question=trigger+output_3.response)"
   ]
  },
  {
   "cell_type": "code",
   "execution_count": 9,
   "id": "66db3fc3-f8c2-43cb-8b22-d1125ab7d718",
   "metadata": {},
   "outputs": [
    {
     "data": {
      "text/plain": [
       "Prediction(\n",
       "    reasoning='Sophia Nguyen, with her slightly negative opinion on euthanasia and her political science background, would likely focus on the ethical and legal implications of euthanasia. She might be concerned about the potential for abuse and the moral responsibility of society to protect vulnerable individuals. Given her Republican leanings, she may prioritize the sanctity of life and the importance of improving palliative care over legalizing euthanasia. However, she would also need to address the argument about individual autonomy and the safeguards proposed by her opponent.',\n",
       "    response=\"I understand the importance of respecting individual autonomy, but I believe that the potential risks associated with euthanasia, such as the possibility of coercion or misjudgment, are too significant to overlook. While the safeguards you mentioned are crucial, I worry that they might not be foolproof, especially in a system that could be under pressure or lacking resources. The sanctity of life is a fundamental value, and I think our focus should be on enhancing palliative care to ensure that everyone has access to compassionate and comprehensive end-of-life care without resorting to euthanasia.\\n\\nIn terms of balancing individual autonomy with protecting vulnerable individuals, I think it's essential to prioritize the latter. Vulnerable individuals, such as those with disabilities or mental health issues, might feel pressured to choose euthanasia due to societal or familial expectations. How do we ensure that their choice is truly free and not influenced by external factors? Do you think there are additional measures we could implement to safeguard these individuals while still respecting autonomy?\"\n",
       ")"
      ]
     },
     "execution_count": 9,
     "metadata": {},
     "output_type": "execute_result"
    }
   ],
   "source": [
    "output_4"
   ]
  },
  {
   "cell_type": "code",
   "execution_count": 10,
   "id": "cedb3d69-260d-4360-aab6-ac14f0e3c1a6",
   "metadata": {},
   "outputs": [],
   "source": [
    "output_5 = leftist_agent(profile=profile_1, context=context_, question=trigger+output_4.response)"
   ]
  },
  {
   "cell_type": "code",
   "execution_count": 11,
   "id": "429d2ff2-825a-4554-8386-d78eb2fc9c1f",
   "metadata": {},
   "outputs": [
    {
     "data": {
      "text/plain": [
       "Prediction(\n",
       "    reasoning=\"As Sarah Martinez, I have a strong positive opinion about euthanasia, which means I believe in the importance of individual autonomy and the right to choose one's end-of-life options. While I understand the concerns about potential coercion and the need for robust safeguards, I believe that these issues can be addressed through careful regulation and oversight. The focus on enhancing palliative care is important, but it should not be seen as mutually exclusive with the option of euthanasia. Instead, both should be available to provide comprehensive end-of-life care. I also believe that respecting individual autonomy is crucial, and with proper measures, we can protect vulnerable individuals while still allowing them the freedom to make their own choices.\",\n",
       "    response=\"I appreciate your concerns about the potential risks associated with euthanasia, such as coercion or misjudgment. However, I believe that with stringent regulations and oversight, these risks can be minimized. It's important to remember that the option of euthanasia is about respecting individual autonomy and providing people with the dignity to make their own choices about their lives, especially when facing terminal illness or unbearable suffering.\\n\\nWhile enhancing palliative care is indeed crucial, it should not be seen as a replacement for euthanasia. Instead, both should coexist to offer a full spectrum of compassionate end-of-life care options. By doing so, we can ensure that individuals have the right to choose the path that aligns with their values and needs.\\n\\nRegarding your point about protecting vulnerable individuals, I agree that it's essential to ensure their choices are free from external pressures. This can be achieved through comprehensive assessments by multiple healthcare professionals, psychological evaluations, and ensuring that individuals are fully informed about all their options. \\n\\nMy question to you is: How do you propose we balance the need for stringent safeguards with the risk of potentially limiting access to euthanasia for those who genuinely seek it as a compassionate choice?\"\n",
       ")"
      ]
     },
     "execution_count": 11,
     "metadata": {},
     "output_type": "execute_result"
    }
   ],
   "source": [
    "output_5"
   ]
  },
  {
   "cell_type": "code",
   "execution_count": null,
   "id": "158bf8c8-4033-42af-8942-ccf553b82dcf",
   "metadata": {},
   "outputs": [],
   "source": []
  }
 ],
 "metadata": {
  "kernelspec": {
   "display_name": "Python 3 (ipykernel)",
   "language": "python",
   "name": "python3"
  },
  "language_info": {
   "codemirror_mode": {
    "name": "ipython",
    "version": 3
   },
   "file_extension": ".py",
   "mimetype": "text/x-python",
   "name": "python",
   "nbconvert_exporter": "python",
   "pygments_lexer": "ipython3",
   "version": "3.10.12"
  }
 },
 "nbformat": 4,
 "nbformat_minor": 5
}
