{
 "cells": [
  {
   "cell_type": "code",
   "execution_count": 1,
   "id": "ebec9422",
   "metadata": {},
   "outputs": [
    {
     "name": "stdout",
     "output_type": "stream",
     "text": [
      "Python: 3.10.12\n",
      "Version info: sys.version_info(major=3, minor=10, micro=12, releaselevel='final', serial=0)\n",
      "Executable: /usr/bin/python3\n",
      "pip 25.2 from /home/marcelo/.local/lib/python3.10/site-packages/pip (python 3.10)\n"
     ]
    },
    {
     "data": {
      "text/plain": [
       "CompletedProcess(args=['/usr/bin/python3', '-m', 'pip', '--version'], returncode=0)"
      ]
     },
     "execution_count": 1,
     "metadata": {},
     "output_type": "execute_result"
    }
   ],
   "source": [
    "import sys, platform, subprocess\n",
    "print(\"Python:\", platform.python_version())      # p.ej., 3.11.9\n",
    "print(\"Version info:\", sys.version_info)         # tuple detallada\n",
    "print(\"Executable:\", sys.executable)             # ruta del intérprete\n",
    "subprocess.run([sys.executable, \"-m\", \"pip\", \"--version\"])  # pip correspondiente"
   ]
  },
  {
   "cell_type": "markdown",
   "id": "6811add8",
   "metadata": {},
   "source": [
    "## Preliminares"
   ]
  },
  {
   "cell_type": "code",
   "execution_count": 2,
   "id": "d3d6843d",
   "metadata": {},
   "outputs": [
    {
     "name": "stdout",
     "output_type": "stream",
     "text": [
      "Nombre: dspy\n",
      "Versión: 2.6.27\n",
      "Email autor: Omar Khattab <okhattab@stanford.edu>\n",
      "Licencia: MIT License\n",
      "Resumen: DSPy\n"
     ]
    }
   ],
   "source": [
    "import dspy\n",
    "import importlib.metadata\n",
    "\n",
    "info = importlib.metadata.metadata(\"dspy\")\n",
    "\n",
    "print(\"Nombre:\", info[\"Name\"])\n",
    "print(\"Versión:\", info[\"Version\"])\n",
    "print(\"Email autor:\", info[\"Author-email\"])\n",
    "print(\"Licencia:\", info[\"License\"])\n",
    "print(\"Resumen:\", info[\"Summary\"])"
   ]
  },
  {
   "cell_type": "code",
   "execution_count": 3,
   "id": "e2105196",
   "metadata": {},
   "outputs": [],
   "source": [
    "class SolveSignature(dspy.Signature):\n",
    "    \"\"\"Resuelve el problema paso a paso y entrega una respuesta final.\"\"\"\n",
    "    question: str = dspy.InputField()\n",
    "    rationale: str = dspy.OutputField(desc=\"razonamiento paso a paso\")  # CoT\n",
    "    answer: str = dspy.OutputField(desc=\"respuesta final, breve\")"
   ]
  },
  {
   "cell_type": "markdown",
   "id": "2916fdf0",
   "metadata": {},
   "source": [
    "## M1"
   ]
  },
  {
   "cell_type": "code",
   "execution_count": 4,
   "id": "18f769de",
   "metadata": {},
   "outputs": [],
   "source": [
    "# Cargamos un llm\n",
    "lm1 = dspy.LM('openai/gpt-4o', api_key='?')\n",
    "\n",
    "dspy.configure(lm=lm1)\n",
    "\n",
    "# Módulo que induce razonamiento paso a paso\n",
    "solver = dspy.ChainOfThought(SolveSignature)\n",
    "\n",
    "# Demo (few-shot) con razonamiento explícito que irá en el prompt\n",
    "demo = dspy.Example(\n",
    "    question=\"Roger has 5 tennis balls. He buys 2 more cans of tennis balls. Each can has 3 tennis balls. How many does he have now?\",\n",
    "    rationale=\"Roger started with 5 balls. 2 cans of 3 tennis balls each is 6 tennis balls, 5 + 6 = 11.\",\n",
    "    answer=\"11\"\n",
    ").with_inputs(\"question\")  # 'question' es el/los campo(s) de entrada\n",
    "\n",
    "# Adjuntar la demo al predictor (se incluye en el prompt al inferir)\n",
    "solver.demos = [demo]   # puedes apilar varias demos en esta lista\n"
   ]
  },
  {
   "cell_type": "code",
   "execution_count": 5,
   "id": "2b8947ab",
   "metadata": {},
   "outputs": [
    {
     "name": "stdout",
     "output_type": "stream",
     "text": [
      "Razonamiento (CoT): 1. Start with the initial number of apples: 23.\n",
      "2. Subtract the number of apples used for lunch: 23 - 20 = 3.\n",
      "3. Add the number of apples bought: 3 + 6 = 9.\n",
      "4. The final number of apples the cafeteria has is 9.\n",
      "Respuesta: 9\n"
     ]
    }
   ],
   "source": [
    "q = \"The cafeteria had 23 apples. If they used 20 to make lunch and bought 6 more, how many apples do they have?\"\n",
    "pred_1 = solver(question=q)\n",
    "\n",
    "print(\"Razonamiento (CoT):\", pred_1.rationale)\n",
    "print(\"Respuesta:\", pred_1.answer)"
   ]
  },
  {
   "cell_type": "markdown",
   "id": "8e9bb64c",
   "metadata": {},
   "source": [
    "## M2"
   ]
  },
  {
   "cell_type": "code",
   "execution_count": 6,
   "id": "090f1a9b",
   "metadata": {},
   "outputs": [
    {
     "name": "stdout",
     "output_type": "stream",
     "text": [
      "Razonamiento (CoT): 1. Initial apples: 23\n",
      "2. Apples used: 20\n",
      "3. Apples bought: 6\n",
      "\n",
      "Calculating step by step:\n",
      "- After using 20 apples: 23 - 20 = 3 apples remaining.\n",
      "- After buying 6 more apples: 3 + 6 = 9 apples total.\n",
      "Respuesta: The cafeteria has 9 apples.\n"
     ]
    }
   ],
   "source": [
    "# Cargamos un llm\n",
    "lm2 = dspy.LM('openai/gpt-4o-mini', api_key='?)\n",
    "\n",
    "dspy.configure(lm=lm2)\n",
    "# Módulo que induce razonamiento paso a paso\n",
    "solver = dspy.ChainOfThought(SolveSignature)\n",
    "solver.demos = [demo]\n",
    "pred_2 = solver(question=q)\n",
    "\n",
    "print(\"Razonamiento (CoT):\", pred_2.rationale)\n",
    "print(\"Respuesta:\", pred_2.answer)"
   ]
  },
  {
   "cell_type": "markdown",
   "id": "b93c1fcd",
   "metadata": {},
   "source": [
    "## M3"
   ]
  },
  {
   "cell_type": "code",
   "execution_count": 8,
   "id": "de803ff8",
   "metadata": {},
   "outputs": [
    {
     "name": "stdout",
     "output_type": "stream",
     "text": [
      "Razonamiento (CoT): Step 1: Start with 23 apples.\n",
      "Step 2: Subtract the 20 apples used for lunch: 23 - 20 = 3 apples remaining.\n",
      "Step 3: Add the 6 apples bought: 3 + 6 = 9 apples in total.\n",
      "Respuesta: 9 apples\n"
     ]
    }
   ],
   "source": [
    "# Cargamos un llm\n",
    "lm3 = dspy.LM('openai/gpt-4.1-mini', api_key='?')\n",
    "\n",
    "dspy.configure(lm=lm3)\n",
    "# Módulo que induce razonamiento paso a paso\n",
    "solver = dspy.ChainOfThought(SolveSignature)\n",
    "solver.demos = [demo]\n",
    "pred_3 = solver(question=q)\n",
    "\n",
    "print(\"Razonamiento (CoT):\", pred_3.rationale)\n",
    "print(\"Respuesta:\", pred_3.answer)"
   ]
  },
  {
   "cell_type": "markdown",
   "id": "741cda66",
   "metadata": {},
   "source": [
    "## Juez"
   ]
  },
  {
   "cell_type": "code",
   "execution_count": 9,
   "id": "9b35cf6c",
   "metadata": {},
   "outputs": [],
   "source": [
    "# Cada candidato: {'model': str, 'answer': str, 'rationale_summary': str}\n",
    "candidates = [\n",
    "    {\"model\": \"M1\", \"answer\": pred_1.answer, \"rationale_summary\": pred_1.rationale},\n",
    "    {\"model\": \"M2\", \"answer\": pred_2.answer, \"rationale_summary\": pred_2.rationale},\n",
    "    {\"model\": \"M3\", \"answer\": pred_3.answer, \"rationale_summary\": pred_3.rationale},\n",
    "]\n"
   ]
  },
  {
   "cell_type": "code",
   "execution_count": 29,
   "id": "9e261e06",
   "metadata": {},
   "outputs": [
    {
     "data": {
      "text/plain": [
       "[{'model': 'M1',\n",
       "  'answer': '9',\n",
       "  'rationale_summary': '1. Start with the initial number of apples: 23.\\n2. Subtract the number of apples used for lunch: 23 - 20 = 3.\\n3. Add the number of apples bought: 3 + 6 = 9.\\n4. The final number of apples the cafeteria has is 9.'},\n",
       " {'model': 'M2',\n",
       "  'answer': 'The cafeteria has 9 apples.',\n",
       "  'rationale_summary': '1. Initial apples: 23\\n2. Apples used: 20\\n3. Apples bought: 6\\n\\nCalculating step by step:\\n- After using 20 apples: 23 - 20 = 3 apples remaining.\\n- After buying 6 more apples: 3 + 6 = 9 apples total.'},\n",
       " {'model': 'M3',\n",
       "  'answer': '9 apples',\n",
       "  'rationale_summary': 'Step 1: Start with 23 apples.\\nStep 2: Subtract the 20 apples used for lunch: 23 - 20 = 3 apples remaining.\\nStep 3: Add the 6 apples bought: 3 + 6 = 9 apples in total.'}]"
      ]
     },
     "execution_count": 29,
     "metadata": {},
     "output_type": "execute_result"
    }
   ],
   "source": [
    "candidates"
   ]
  },
  {
   "cell_type": "code",
   "execution_count": 10,
   "id": "3bfb53db",
   "metadata": {},
   "outputs": [],
   "source": [
    "import json\n",
    "from typing import List\n",
    "\n",
    "# ---------- Signatures ----------\n",
    "class JudgeSignature(dspy.Signature):\n",
    "    \"\"\"Evalúa y selecciona la mejor respuesta.\"\"\"\n",
    "    question: str = dspy.InputField(desc=\"la pregunta original\")\n",
    "    candidates_json: str = dspy.InputField(desc=\"lista JSON con objetos {model, answer, rationale_summary}\")\n",
    "    rubric: str = dspy.InputField(desc=(\"criterios y ponderaciones; p.ej., \"\n",
    "                                        \"Corrección(0.5), Consistencia(0.2), \"\n",
    "                                        \"Completitud(0.2), Seguridad(0.1)\"))\n",
    "    # Salidas (breves y estructuradas)\n",
    "    selected_index: int = dspy.OutputField(desc=\"índice del mejor candidato (0..N-1)\")\n",
    "    scores_json: str = dspy.OutputField(desc=\"JSON con puntajes por candidato y por criterio\")\n",
    "    brief_justification: str = dspy.OutputField(desc=\"justificación concisa (≤3 frases)\")\n",
    "\n",
    "class SynthesizeSignature(dspy.Signature):\n",
    "    \"\"\"Produce una respuesta final unificada.\"\"\"\n",
    "    question: str = dspy.InputField()\n",
    "    topk_json: str = dspy.InputField(desc=\"JSON con los mejores candidatos (1–2) y sus puntos fuertes/débiles\")\n",
    "    final_answer: str = dspy.OutputField(desc=\"respuesta unificada, clara y coherente\")\n",
    "    brief_reasoning: str = dspy.OutputField(desc=\"justificación breve (≤3 frases)\")\n"
   ]
  },
  {
   "cell_type": "code",
   "execution_count": 11,
   "id": "ee32901d",
   "metadata": {},
   "outputs": [],
   "source": [
    "class JudgeModule(dspy.Module):\n",
    "    def __init__(self):\n",
    "        super().__init__()\n",
    "        self.judge = dspy.Predict(JudgeSignature)  # puedes cambiar a dspy.ChainOfThought si deseas razonamiento interno\n",
    "\n",
    "    def forward(self, question: str, candidates: List[dict], rubric: str):\n",
    "        j = self.judge(\n",
    "            question=question,\n",
    "            candidates_json=json.dumps(candidates, ensure_ascii=False),\n",
    "            rubric=rubric\n",
    "        )\n",
    "        # Parseo seguro\n",
    "        try:\n",
    "            scores = json.loads(j.scores_json)\n",
    "        except Exception:\n",
    "            scores = {}\n",
    "        return dict(\n",
    "            selected_index=int(j.selected_index),\n",
    "            scores=scores,\n",
    "            brief_justification=j.brief_justification.strip()\n",
    "        )\n",
    "\n",
    "class SynthesizeModule(dspy.Module):\n",
    "    def __init__(self):\n",
    "        super().__init__()\n",
    "        self.synth = dspy.Predict(SynthesizeSignature)\n",
    "\n",
    "    def forward(self, question: str, topk: List[dict]):\n",
    "        s = self.synth(\n",
    "            question=question,\n",
    "            topk_json=json.dumps(topk, ensure_ascii=False)\n",
    "        )\n",
    "        return dict(\n",
    "            final_answer=s.final_answer.strip(),\n",
    "            brief_reasoning=s.brief_reasoning.strip()\n",
    "        )\n"
   ]
  },
  {
   "cell_type": "code",
   "execution_count": 15,
   "id": "c6e378db",
   "metadata": {},
   "outputs": [],
   "source": [
    "rubric = '''Evalúa cada candidato con esta rúbrica y devuelve JSON estructurado:\n",
    "- Corrección factual (0.5)\n",
    "- Consistencia lógica (0.2)\n",
    "- Completitud (0.2)\n",
    "- Seguridad/No alucinar (0.1)\n",
    "\n",
    "Instrucciones:\n",
    "1) Asigna a cada criterio una nota de 1–5.\n",
    "2) Calcula score_total ponderado por candidato.\n",
    "3) Elige selected_index = argmax(score_total).\n",
    "4) Devuelve scores_json como: \n",
    "   {\"candidates\":[{\"model\":\"...\", \"scores\":{\"correccion\":5,...}, \"total\":4.3}, ...]}\n",
    "5) brief_justification: máx 3 frases, sin pasos detallados.\n",
    "'''"
   ]
  },
  {
   "cell_type": "code",
   "execution_count": 17,
   "id": "cb99f6e1",
   "metadata": {},
   "outputs": [],
   "source": [
    "judge = JudgeModule()\n",
    "synth = SynthesizeModule()\n",
    "question = q\n",
    "\n",
    "# Ejecuta el juez\n",
    "jout = judge(question, candidates, rubric)\n",
    "\n",
    "# Elige top-k (p. ej., 2 mejores por total)\n",
    "ranked = sorted(\n",
    "    jout[\"scores\"].get(\"candidates\", []),\n",
    "    key=lambda x: x.get(\"total\", 0),\n",
    "    reverse=True\n",
    ")\n",
    "topk = []\n",
    "for c in ranked[:2]:\n",
    "    # Recupera el texto original del candidato a partir del 'model' o índice\n",
    "    for i, cand in enumerate(candidates):\n",
    "        if cand[\"model\"] == c.get(\"model\"):\n",
    "            topk.append({\n",
    "                \"model\": cand[\"model\"],\n",
    "                \"answer\": cand[\"answer\"],\n",
    "                \"rationale_summary\": cand[\"rationale_summary\"],\n",
    "                \"strengths\": \"Alta corrección y consistencia\" if c.get(\"total\",0) >= 4 else \"Equilibrado\",\n",
    "                \"weaknesses\": \"Completitud mejorable\" if c.get(\"total\",0) < 4 else \"\"\n",
    "            })\n",
    "            break\n",
    "\n",
    "# Síntesis final\n",
    "sout = synth(question, topk)\n",
    "\n",
    "final_answer = sout[\"final_answer\"]\n",
    "judge_note   = jout[\"brief_justification\"]  # máx 3 frases\n",
    "synth_note   = sout[\"brief_reasoning\"]      # máx 3 frases"
   ]
  },
  {
   "cell_type": "code",
   "execution_count": 18,
   "id": "189a1867",
   "metadata": {},
   "outputs": [
    {
     "name": "stdout",
     "output_type": "stream",
     "text": [
      "============================================================\n",
      "🧑‍⚖️  Nota del Juez:\n",
      "Los tres candidatos ofrecen respuestas correctas, completas y consistentes sin errores ni alucinaciones. La diferencia entre ellos es mínima y solo en la forma de presentación, por lo que cualquiera es válido. Se selecciona el primero por ser claro y directo.\n",
      "------------------------------------------------------------\n",
      "🧩  Nota de Síntesis:\n",
      "Starting with 23 apples, they used 20, leaving 3. Then they bought 6 more, resulting in 3 + 6 = 9 apples.\n",
      "------------------------------------------------------------\n",
      "✅  Respuesta Final:\n",
      "The cafeteria has 9 apples.\n",
      "============================================================\n"
     ]
    }
   ],
   "source": [
    "print(\"=\"*60)\n",
    "print(\"🧑‍⚖️  Nota del Juez:\")\n",
    "print(judge_note)\n",
    "print(\"-\"*60)\n",
    "print(\"🧩  Nota de Síntesis:\")\n",
    "print(synth_note)\n",
    "print(\"-\"*60)\n",
    "print(\"✅  Respuesta Final:\")\n",
    "print(final_answer)\n",
    "print(\"=\"*60)"
   ]
  },
  {
   "cell_type": "markdown",
   "id": "49b7d465",
   "metadata": {},
   "source": [
    "## ReConcile"
   ]
  },
  {
   "cell_type": "code",
   "execution_count": 30,
   "id": "7c4ce5d5",
   "metadata": {},
   "outputs": [],
   "source": [
    "import re\n",
    "\n",
    "# -----------------------------\n",
    "# Utilidades \"deterministas\"\n",
    "# -----------------------------\n",
    "def parse_int_answer(s: str):\n",
    "    \"\"\"Extrae el primer entero de la cadena (e.g., '9', '9 apples', 'The answer is 9').\"\"\"\n",
    "    m = re.search(r\"(-?\\d+)\", str(s))\n",
    "    return int(m.group(1)) if m else None\n",
    "\n",
    "def validate_apples_word_problem(question: str):\n",
    "    \"\"\"\n",
    "    Verificador específico para el patrón 'had X, used Y, bought Z'.\n",
    "    Retorna (respuesta_correcta, pasos_texto)\n",
    "    \"\"\"\n",
    "    # Para este problema concreto basta con parsear X=23, Y=20, Z=6\n",
    "    nums = list(map(int, re.findall(r\"\\d+\", question)))\n",
    "    # Si quieres algo más general, podrías mapear verbos a +/-.\n",
    "    if len(nums) >= 3:\n",
    "        X, Y, Z = nums[:3]\n",
    "        after_use = X - Y\n",
    "        final = after_use + Z\n",
    "        steps = [f\"{X} - {Y} = {after_use}\", f\"{after_use} + {Z} = {final}\"]\n",
    "        return final, steps\n",
    "    return None, []\n",
    "\n",
    "def majority_vote_int(ints):\n",
    "    \"\"\"Devuelve el entero más común; si hay empate, devuelve el primero que aparece.\"\"\"\n",
    "    from collections import Counter\n",
    "    c = Counter(ints)\n",
    "    top = c.most_common()\n",
    "    return top[0][0]\n",
    "\n",
    "# -----------------------------\n",
    "# 1) Normalización por candidato (DSPy)\n",
    "# -----------------------------\n",
    "class NormalizeCandidateSig(dspy.Signature):\n",
    "    \"\"\"Extrae una respuesta numérica y una ecuación corta a partir de la salida del modelo.\"\"\"\n",
    "    question: str = dspy.InputField()\n",
    "    answer: str = dspy.InputField(desc=\"texto de respuesta del candidato\")\n",
    "    rationale_summary: str = dspy.InputField(desc=\"resumen breve del razonamiento del candidato\")\n",
    "\n",
    "    # Salidas (breves y públicas, no CoT interno)\n",
    "    numeric_answer: str = dspy.OutputField(desc=\"entero en texto, p.ej. '9'\")\n",
    "    short_equation: str = dspy.OutputField(desc=\"ecuación corta tipo '23 - 20 + 6 = 9'\")\n",
    "\n",
    "class NormalizeCandidate(dspy.Module):\n",
    "    def __init__(self): \n",
    "        super().__init__()\n",
    "        self.m = dspy.Predict(NormalizeCandidateSig)\n",
    "    def forward(self, question, candidate):\n",
    "        out = self.m(\n",
    "            question=question,\n",
    "            answer=candidate[\"answer\"],\n",
    "            rationale_summary=candidate[\"rationale_summary\"]\n",
    "        )\n",
    "        # fallback robusto: si no vino número, lo parseamos nosotros\n",
    "        num = parse_int_answer(out.numeric_answer) if out.numeric_answer else parse_int_answer(candidate[\"answer\"])\n",
    "        return {\n",
    "            \"model\": candidate[\"model\"],\n",
    "            \"numeric_answer\": num,\n",
    "            \"short_equation\": out.short_equation.strip() if out.short_equation else \"\"\n",
    "        }\n",
    "\n",
    "# -----------------------------\n",
    "# 2) ReConcile (síntesis conciliatoria)\n",
    "# -----------------------------\n",
    "class ReconcileSig(dspy.Signature):\n",
    "    \"\"\"Redacta una respuesta final unificada con razonamiento conciliatorio breve.\"\"\"\n",
    "    question: str = dspy.InputField()\n",
    "    candidates_json: str = dspy.InputField(desc=\"candidatos normalizados con numeric_answer y short_equation\")\n",
    "    majority_answer: str = dspy.InputField(desc=\"entero final por mayoría (texto)\")\n",
    "    validator_steps: str = dspy.InputField(desc=\"pasos verificados, p.ej. '23 - 20 = 3; 3 + 6 = 9'\")\n",
    "\n",
    "    final_answer: str = dspy.OutputField(desc=\"respuesta final (solo el número si corresponde, p.ej. '9')\")\n",
    "    conciliatory_rationale: str = dspy.OutputField(desc=\"3–5 frases: acuerda, explica el proceso y concluye\")\n",
    "\n",
    "class Reconcile(dspy.Module):\n",
    "    def __init__(self):\n",
    "        super().__init__()\n",
    "        self.m = dspy.Predict(ReconcileSig)\n",
    "    def forward(self, question, normalized_candidates, majority_answer, validator_steps):\n",
    "        cj = json.dumps(normalized_candidates, ensure_ascii=False)\n",
    "        vs = \"; \".join(validator_steps)\n",
    "        out = self.m(\n",
    "            question=question,\n",
    "            candidates_json=cj,\n",
    "            majority_answer=str(majority_answer),\n",
    "            validator_steps=vs\n",
    "        )\n",
    "        return {\n",
    "            \"final_answer\": out.final_answer.strip(),\n",
    "            \"conciliatory_rationale\": out.conciliatory_rationale.strip()\n",
    "        }\n",
    "\n",
    "# -----------------------------\n",
    "# 3) Orquestación end-to-end\n",
    "# -----------------------------\n",
    "def reconcile_word_problem(question: str, candidates: list):\n",
    "    # (a) Normalizar candidatos\n",
    "    normalizer = NormalizeCandidate()\n",
    "    normalized = [normalizer(question, c) for c in candidates]\n",
    "\n",
    "    # (b) Voto por mayoría\n",
    "    nums = [n[\"numeric_answer\"] for n in normalized if n[\"numeric_answer\"] is not None]\n",
    "    majority = majority_vote_int(nums) if nums else None\n",
    "\n",
    "    # (c) Verificador independiente (determinista)\n",
    "    gold, steps = validate_apples_word_problem(question)\n",
    "\n",
    "    # Si por alguna razón majority es None, usa el verificado.\n",
    "    final_num = majority if majority is not None else gold\n",
    "\n",
    "    # (d) Síntesis conciliatoria\n",
    "    recon = Reconcile()\n",
    "    out = recon(question, normalized, final_num, steps)\n",
    "\n",
    "    # Si el LLM no devuelve el número “pelado”, forzamos a este valor seguro:\n",
    "    if parse_int_answer(out[\"final_answer\"]) is None and final_num is not None:\n",
    "        out[\"final_answer\"] = str(final_num)\n",
    "\n",
    "    return {\n",
    "        \"normalized\": normalized,\n",
    "        \"majority_answer\": final_num,\n",
    "        \"validator_answer\": gold,\n",
    "        \"validator_steps\": steps,\n",
    "        \"final_answer\": out[\"final_answer\"],\n",
    "        \"conciliatory_rationale\": out[\"conciliatory_rationale\"]\n",
    "    }\n"
   ]
  },
  {
   "cell_type": "code",
   "execution_count": 31,
   "id": "d4419cc5",
   "metadata": {},
   "outputs": [],
   "source": [
    "result = reconcile_word_problem(q, candidates)"
   ]
  },
  {
   "cell_type": "code",
   "execution_count": 32,
   "id": "c8477ac3",
   "metadata": {},
   "outputs": [
    {
     "name": "stdout",
     "output_type": "stream",
     "text": [
      "========================================================================\n",
      "📘 ReConcile Report\n",
      "========================================================================\n",
      "\n",
      "📦 Normalización por modelo:\n",
      "Modelo   | Ans. num  | Ecuación corta\n",
      "------------------------------------------------------------------------\n",
      "M1       | 9         | 23 - 20 + 6 = 9\n",
      "M2       | 9         | 23 - 20 + 6 = 9\n",
      "M3       | 9         | 23 - 20 + 6 = 9\n",
      "------------------------------------------------------------------------\n",
      "\n",
      "🧮 Verificación independiente:\n",
      "   1. 23 - 20 = 3\n",
      "   2. 3 + 6 = 9\n",
      "\n",
      "👥 Mayoría por respuesta: 9\n",
      "✅ Respuesta final: 9\n",
      "\n",
      "🧩 Razonamiento conciliatorio:\n",
      "All models agree that the cafeteria started with 23 apples, used 20, leaving 3 apples, and then bought 6 more. Adding these 6 apples to the remaining 3 results in a total of 9 apples. The calculation steps are consistent and correctly applied, confirming that the final answer is 9.\n",
      "========================================================================\n"
     ]
    }
   ],
   "source": [
    "def pretty_print_reconcile(result, title=\"ReConcile Report\"):\n",
    "    print(\"=\"*72)\n",
    "    print(f\"📘 {title}\")\n",
    "    print(\"=\"*72)\n",
    "\n",
    "    # Tabla de candidatos normalizados\n",
    "    print(\"\\n📦 Normalización por modelo:\")\n",
    "    header = f\"{'Modelo':<8} | {'Ans. num':<9} | {'Ecuación corta'}\"\n",
    "    print(header)\n",
    "    print(\"-\"*72)\n",
    "    for it in result[\"normalized\"]:\n",
    "        model = it.get(\"model\",\"?\")\n",
    "        num   = it.get(\"numeric_answer\",\"?\")\n",
    "        eq    = it.get(\"short_equation\",\"\").strip()\n",
    "        print(f\"{model:<8} | {str(num):<9} | {eq}\")\n",
    "    print(\"-\"*72)\n",
    "\n",
    "    # Verificación determinista\n",
    "    steps = result.get(\"validator_steps\", [])\n",
    "    if steps:\n",
    "        print(\"\\n🧮 Verificación independiente:\")\n",
    "        for i, st in enumerate(steps, 1):\n",
    "            print(f\"  {i:>2}. {st}\")\n",
    "\n",
    "    # Mayoría y final\n",
    "    print(\"\\n👥 Mayoría por respuesta:\", result.get(\"majority_answer\"))\n",
    "    print(\"✅ Respuesta final:\", result.get(\"final_answer\"))\n",
    "\n",
    "    # Razonamiento conciliatorio (síntesis pública)\n",
    "    print(\"\\n🧩 Razonamiento conciliatorio:\")\n",
    "    print(result.get(\"conciliatory_rationale\",\"(sin texto)\"))\n",
    "    print(\"=\"*72)\n",
    "\n",
    "pretty_print_reconcile(result, title=\"ReConcile Report\")"
   ]
  },
  {
   "cell_type": "code",
   "execution_count": 33,
   "id": "bfbc7264",
   "metadata": {},
   "outputs": [],
   "source": [
    "class ReconciliatoryReasoningSig(dspy.Signature):\n",
    "    \"\"\"Explica brevemente cómo se llega a la respuesta final (estilo juez).\"\"\"\n",
    "    question: str = dspy.InputField()\n",
    "    normalized_json: str = dspy.InputField(desc=\"[{model,numeric_answer,short_equation}]\")\n",
    "    majority_answer: str = dspy.InputField(desc=\"entero por mayoría (texto)\")\n",
    "    validator_answer: str = dspy.InputField(desc=\"entero verificado (texto)\")\n",
    "    validator_steps: str = dspy.InputField(desc=\"pasos verificados en texto; separados por '; '\")\n",
    "    policy: str = dspy.InputField(desc=\"guía de estilo (3–5 frases, sin CoT interno)\")\n",
    "\n",
    "    conciliatory_rationale: str = dspy.OutputField(desc=\"justificación breve (3–5 frases)\")\n",
    "    decision_summary: str = dspy.OutputField(desc=\"1 frase con el motivo principal\")\n",
    "\n",
    "class ReconciliatoryJudge(dspy.Module):\n",
    "    def __init__(self):\n",
    "        super().__init__()\n",
    "        self.m = dspy.Predict(ReconciliatoryReasoningSig)\n",
    "\n",
    "    def forward(self, question, normalized, majority_answer, validator_answer, validator_steps, policy):\n",
    "        nj = json.dumps(normalized, ensure_ascii=False)\n",
    "        vs = \"; \".join(validator_steps or [])\n",
    "        out = self.m(\n",
    "            question=question,\n",
    "            normalized_json=nj,\n",
    "            majority_answer=str(majority_answer),\n",
    "            validator_answer=str(validator_answer),\n",
    "            validator_steps=vs,\n",
    "            policy=policy\n",
    "        )\n",
    "        return dict(\n",
    "            conciliatory_rationale=out.conciliatory_rationale.strip(),\n",
    "            decision_summary=out.decision_summary.strip()\n",
    "        )\n",
    "\n",
    "RECONCILE_JUDGE_POLICY = \"\"\"\n",
    "Escribe 3–5 frases, estilo juez explicativo:\n",
    "- Menciona el consenso entre modelos y cómo se verificó aritméticamente.\n",
    "- Si la mayoría y el verificador coinciden, dilo claramente.\n",
    "- Incluye la ecuación breve que valida el resultado.\n",
    "- No muestres pasos internos de chain-of-thought; usa lenguaje público y conciso.\n",
    "\"\"\"\n",
    "\n",
    "def compute_judge_reasoning(question, result):\n",
    "    judge = ReconciliatoryJudge()\n",
    "    return judge(\n",
    "        question=question,\n",
    "        normalized=result[\"normalized\"],\n",
    "        majority_answer=result[\"majority_answer\"],\n",
    "        validator_answer=result[\"validator_answer\"],\n",
    "        validator_steps=result[\"validator_steps\"],\n",
    "        policy=RECONCILE_JUDGE_POLICY\n",
    "    )\n"
   ]
  },
  {
   "cell_type": "code",
   "execution_count": 34,
   "id": "6e9d919e",
   "metadata": {},
   "outputs": [
    {
     "name": "stdout",
     "output_type": "stream",
     "text": [
      "\n",
      "🧑‍⚖️ Razonamiento del juez (conciliatorio):\n",
      "Los tres modelos coinciden en que la respuesta correcta es 9, y esta conclusión fue verificada aritméticamente. El cálculo se realizó restando las 20 manzanas usadas de las 23 iniciales, resultando en 3, y luego sumando las 6 manzanas compradas, dando un total de 9. Tanto la mayoría como el verificador están de acuerdo en esta respuesta. La ecuación que valida este resultado es: 23 - 20 + 6 = 9.\n",
      "\n",
      "🧷 Resumen del juez:\n",
      "La respuesta final es 9, confirmada por consenso de modelos y verificación aritmética.\n"
     ]
    }
   ],
   "source": [
    "rr = compute_judge_reasoning(q, result)\n",
    "print(\"\\n🧑‍⚖️ Razonamiento del juez (conciliatorio):\")\n",
    "print(rr[\"conciliatory_rationale\"])\n",
    "print(\"\\n🧷 Resumen del juez:\")\n",
    "print(rr[\"decision_summary\"])"
   ]
  },
  {
   "cell_type": "code",
   "execution_count": null,
   "id": "0520ceb0",
   "metadata": {},
   "outputs": [],
   "source": []
  }
 ],
 "metadata": {
  "kernelspec": {
   "display_name": "Python 3.10",
   "language": "python",
   "name": "py310"
  },
  "language_info": {
   "codemirror_mode": {
    "name": "ipython",
    "version": 3
   },
   "file_extension": ".py",
   "mimetype": "text/x-python",
   "name": "python",
   "nbconvert_exporter": "python",
   "pygments_lexer": "ipython3",
   "version": "3.10.12"
  }
 },
 "nbformat": 4,
 "nbformat_minor": 5
}
