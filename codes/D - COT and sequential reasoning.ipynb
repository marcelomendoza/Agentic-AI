{
 "cells": [
  {
   "cell_type": "markdown",
   "id": "7c9885b8",
   "metadata": {},
   "source": [
    "# Summer Institute in Computational Social Science 2025"
   ]
  },
  {
   "cell_type": "code",
   "execution_count": 1,
   "id": "f55f0c61-eacc-41f0-a9f4-0d8ad42092e5",
   "metadata": {},
   "outputs": [],
   "source": [
    "from IPython.display import display, Math, Latex"
   ]
  },
  {
   "cell_type": "code",
   "execution_count": 2,
   "id": "e83b6566-ade1-41e7-a7aa-a477596dca41",
   "metadata": {},
   "outputs": [],
   "source": [
    "import dspy\n",
    "\n",
    "lm1 = dspy.LM('openai/gpt-4o', api_key='API_KEY')\n",
    "lm2 = dspy.LM('openai/gpt-4', api_key='API_KEY')\n"
   ]
  },
  {
   "cell_type": "code",
   "execution_count": 3,
   "id": "acf4da72-a270-4dfc-9102-1c71e1034869",
   "metadata": {},
   "outputs": [],
   "source": [
    "dspy.configure(lm=lm1)"
   ]
  },
  {
   "cell_type": "code",
   "execution_count": 4,
   "id": "cd883450-3e3e-4aae-aa93-3e3536918701",
   "metadata": {},
   "outputs": [],
   "source": [
    "math = dspy.ChainOfThought(\"question -> answer: float\")\n",
    "output = math(question=\"Three dice are tossed. What is the probability that the sum equals three?\")"
   ]
  },
  {
   "cell_type": "code",
   "execution_count": 5,
   "id": "4c672b1d-0b48-4ef2-a872-0a7e5555e733",
   "metadata": {},
   "outputs": [
    {
     "data": {
      "text/latex": [
       "To find the probability that the sum of the numbers on three dice equals three, we first determine the total number of possible outcomes when three dice are tossed. Each die has 6 faces, so there are \\(6 \\times 6 \\times 6 = 216\\) possible outcomes.\n",
       "\n",
       "Next, we find the number of favorable outcomes where the sum of the numbers on the three dice equals three. The only way to achieve a sum of three is if each die shows a one, i.e., (1, 1, 1). This is the only combination that results in a sum of three.\n",
       "\n",
       "Thus, there is only 1 favorable outcome.\n",
       "\n",
       "The probability is then calculated as the number of favorable outcomes divided by the total number of possible outcomes:\n",
       "\n",
       "\\[\n",
       "\\text{Probability} = \\frac{\\text{Number of favorable outcomes}}{\\text{Total number of possible outcomes}} = \\frac{1}{216}\n",
       "\\]\n",
       "\n",
       "Therefore, the probability that the sum equals three is \\(\\frac{1}{216}\\)."
      ],
      "text/plain": [
       "<IPython.core.display.Latex object>"
      ]
     },
     "metadata": {},
     "output_type": "display_data"
    }
   ],
   "source": [
    "display(Latex(output.reasoning))"
   ]
  },
  {
   "cell_type": "code",
   "execution_count": 6,
   "id": "76287802-549d-4297-ae87-cde2d9b6d32f",
   "metadata": {},
   "outputs": [
    {
     "data": {
      "text/latex": [
       "The total number of possible outcomes when three dice are tossed is 216, as each die has 6 faces, so there are \\(6 \\times 6 \\times 6 = 216\\) possible outcomes.\n",
       "\n",
       "To find the number of favorable outcomes where the sum of the numbers on the three dice equals four, we need to consider all the combinations that can give a sum of four. These combinations are (1, 1, 2), (1, 2, 1), (2, 1, 1), (1, 3, 0), (3, 1, 0), (0, 1, 3), (0, 3, 1), (3, 0, 1), (1, 0, 3), (2, 2, 0), (0, 2, 2), (2, 0, 2). However, a die cannot show a zero, so we discard the combinations that include zero. This leaves us with the combinations (1, 1, 2), (1, 2, 1), (2, 1, 1), which are 3 favorable outcomes.\n",
       "\n",
       "The probability is then calculated as the number of favorable outcomes divided by the total number of possible outcomes:\n",
       "\n",
       "\\[\n",
       "\\text{Probability} = \\frac{\\text{Number of favorable outcomes}}{\\text{Total number of possible outcomes}} = \\frac{3}{216}\n",
       "\\]\n",
       "\n",
       "Therefore, the probability that the sum equals four is \\(\\frac{3}{216}\\)."
      ],
      "text/plain": [
       "<IPython.core.display.Latex object>"
      ]
     },
     "metadata": {},
     "output_type": "display_data"
    }
   ],
   "source": [
    "dspy.configure(lm=lm2)\n",
    "\n",
    "math = dspy.ChainOfThought(\"context, question -> answer: float\")\n",
    "output_ = math(context = output.reasoning, question=\"Three dice are tossed. What is the probability that the sum equals four?\")\n",
    "display(Latex(output_.reasoning))"
   ]
  },
  {
   "cell_type": "code",
   "execution_count": 7,
   "id": "5fd7db47-0952-42a8-aae4-54905cba7226",
   "metadata": {},
   "outputs": [
    {
     "data": {
      "text/latex": [
       "The sum of the numbers on three dice can be four in the following ways: (1,1,2), (1,2,1), (2,1,1), (1,3,0), (3,1,0), (0,1,3), (2,2,0), (0,2,2), (2,0,2). That's 9 ways. The total number of outcomes when three dice are thrown is 6*6*6 = 216. So, the probability that the sum equals four is 9/216."
      ],
      "text/plain": [
       "<IPython.core.display.Latex object>"
      ]
     },
     "metadata": {},
     "output_type": "display_data"
    }
   ],
   "source": [
    "# Baseline\n",
    "\n",
    "math = dspy.ChainOfThought(\"question -> answer: float\")\n",
    "output_ = math(question=\"Three dice are tossed. What is the probability that the sum equals four?\")\n",
    "display(Latex(output_.reasoning))"
   ]
  },
  {
   "cell_type": "code",
   "execution_count": null,
   "id": "72fb38a8-9f79-4540-a92f-0d9f03560583",
   "metadata": {},
   "outputs": [],
   "source": []
  }
 ],
 "metadata": {
  "kernelspec": {
   "display_name": "Python 3 (ipykernel)",
   "language": "python",
   "name": "python3"
  },
  "language_info": {
   "codemirror_mode": {
    "name": "ipython",
    "version": 3
   },
   "file_extension": ".py",
   "mimetype": "text/x-python",
   "name": "python",
   "nbconvert_exporter": "python",
   "pygments_lexer": "ipython3",
   "version": "3.10.12"
  }
 },
 "nbformat": 4,
 "nbformat_minor": 5
}
