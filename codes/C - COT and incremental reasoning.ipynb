{
 "cells": [
  {
   "cell_type": "markdown",
   "id": "7b6aa5ff",
   "metadata": {},
   "source": [
    "# Agentic AI"
   ]
  },
  {
   "cell_type": "code",
   "execution_count": 1,
   "id": "9fb6d75f-fec9-4838-8551-549c37280e9b",
   "metadata": {},
   "outputs": [],
   "source": [
    "from IPython.display import display, Math, Latex"
   ]
  },
  {
   "cell_type": "code",
   "execution_count": 2,
   "id": "cffc0e5c-0e33-432b-9435-319f44435f4f",
   "metadata": {},
   "outputs": [],
   "source": [
    "import dspy\n",
    "\n",
    "lm1 = dspy.LM('openai/gpt-4o', api_key='API_KEY')\n",
    "lm2 = dspy.LM('openai/gpt-4', api_key='API_KEY')\n"
   ]
  },
  {
   "cell_type": "code",
   "execution_count": 3,
   "id": "7cd16e71-0cd0-41f6-9ddd-29c652d932f9",
   "metadata": {},
   "outputs": [],
   "source": [
    "dspy.configure(lm=lm1)"
   ]
  },
  {
   "cell_type": "code",
   "execution_count": 4,
   "id": "8b8dd2e3-a95f-448a-ae9f-a77592c796b7",
   "metadata": {},
   "outputs": [],
   "source": [
    "math = dspy.ChainOfThought(\"question -> answer: float\")\n",
    "output1 = math(question=\"Three dice are tossed. What is the probability that the sum equals five?\")"
   ]
  },
  {
   "cell_type": "code",
   "execution_count": 5,
   "id": "b3bdef45-4837-41ae-aa63-6bbca71aa208",
   "metadata": {},
   "outputs": [
    {
     "data": {
      "text/latex": [
       "To find the probability that the sum of the numbers on three dice equals five, we first determine the total number of possible outcomes when three dice are tossed. Each die has 6 faces, so there are \\(6 \\times 6 \\times 6 = 216\\) possible outcomes.\n",
       "\n",
       "Next, we need to find the number of favorable outcomes where the sum of the numbers on the three dice equals five. We can list these combinations:\n",
       "\n",
       "1. (1, 1, 3)\n",
       "2. (1, 3, 1)\n",
       "3. (3, 1, 1)\n",
       "4. (1, 2, 2)\n",
       "5. (2, 1, 2)\n",
       "6. (2, 2, 1)\n",
       "\n",
       "These are the only combinations where the sum of the numbers is five. There are 6 such combinations.\n",
       "\n",
       "The probability is then the number of favorable outcomes divided by the total number of possible outcomes:\n",
       "\n",
       "\\[\n",
       "\\text{Probability} = \\frac{\\text{Number of favorable outcomes}}{\\text{Total number of outcomes}} = \\frac{6}{216} = \\frac{1}{36}\n",
       "\\]\n",
       "\n",
       "Thus, the probability that the sum of the numbers on three dice equals five is \\(\\frac{1}{36}\\)."
      ],
      "text/plain": [
       "<IPython.core.display.Latex object>"
      ]
     },
     "metadata": {},
     "output_type": "display_data"
    }
   ],
   "source": [
    "display(Latex(output1.reasoning))"
   ]
  },
  {
   "cell_type": "code",
   "execution_count": 6,
   "id": "df7e943c-2106-46d2-864f-165cbddc3926",
   "metadata": {},
   "outputs": [],
   "source": [
    "output2 = math(context = output1.reasoning, question=\"We will call an 8-sided die an octodice. One octodice and one dice are tossed. What is the probability that the sum equals twelve?\")"
   ]
  },
  {
   "cell_type": "code",
   "execution_count": 7,
   "id": "81e886f9-2689-450d-a943-fcc0207496da",
   "metadata": {},
   "outputs": [
    {
     "data": {
      "text/latex": [
       "To solve this problem, we need to calculate the probability that the sum of the numbers rolled on an 8-sided die (octodice) and a standard 6-sided die equals twelve.\n",
       "\n",
       "First, let's consider the possible outcomes for each die:\n",
       "- The octodice can roll any integer from 1 to 8.\n",
       "- The standard 6-sided die can roll any integer from 1 to 6.\n",
       "\n",
       "Next, we need to find all the combinations of rolls from these two dice that sum to twelve. We will list the possible outcomes for each die that add up to twelve:\n",
       "\n",
       "1. If the octodice rolls an 8, the 6-sided die must roll a 4 (since 8 + 4 = 12).\n",
       "2. If the octodice rolls a 7, the 6-sided die must roll a 5 (since 7 + 5 = 12).\n",
       "3. If the octodice rolls a 6, the 6-sided die must roll a 6 (since 6 + 6 = 12).\n",
       "\n",
       "These are the only combinations that result in a sum of twelve. \n",
       "\n",
       "Now, let's calculate the total number of possible outcomes when both dice are rolled:\n",
       "- The octodice has 8 possible outcomes.\n",
       "- The 6-sided die has 6 possible outcomes.\n",
       "- Therefore, the total number of possible outcomes is 8 * 6 = 48.\n",
       "\n",
       "Finally, we calculate the probability by dividing the number of successful outcomes (combinations that sum to twelve) by the total number of possible outcomes:\n",
       "- There are 3 successful outcomes: (8,4), (7,5), and (6,6).\n",
       "- Thus, the probability is 3/48.\n",
       "\n",
       "Simplifying 3/48 gives us 1/16.\n",
       "\n",
       "Therefore, the probability that the sum of the numbers rolled on the octodice and the 6-sided die equals twelve is 1/16."
      ],
      "text/plain": [
       "<IPython.core.display.Latex object>"
      ]
     },
     "metadata": {},
     "output_type": "display_data"
    }
   ],
   "source": [
    "display(Latex(output2.reasoning))"
   ]
  },
  {
   "cell_type": "code",
   "execution_count": 8,
   "id": "c90f5709-70d9-4ec5-ac0e-8a426973dc76",
   "metadata": {},
   "outputs": [
    {
     "data": {
      "text/latex": [
       "To solve this problem, we need to calculate the probability that the sum of the numbers rolled on two standard 6-sided dice and one 8-sided die (octodice) equals eighteen.\n",
       "\n",
       "First, let's consider the possible outcomes for each die:\n",
       "- Each 6-sided die can roll any integer from 1 to 6.\n",
       "- The octodice can roll any integer from 1 to 8.\n",
       "\n",
       "Next, we need to find all the combinations of rolls from these three dice that sum to eighteen. The maximum sum for two 6-sided dice is 12 (6+6), and the maximum for the octodice is 8, so the maximum possible sum is 20. Therefore, a sum of 18 is possible.\n",
       "\n",
       "Let's list the possible outcomes for each die that add up to eighteen:\n",
       "1. If the octodice rolls an 8, the two 6-sided dice must roll a total of 10. The combinations for the two 6-sided dice to sum to 10 are: (4,6), (5,5), and (6,4).\n",
       "2. If the octodice rolls a 7, the two 6-sided dice must roll a total of 11. The combinations for the two 6-sided dice to sum to 11 are: (5,6) and (6,5).\n",
       "3. If the octodice rolls a 6, the two 6-sided dice must roll a total of 12. The only combination for the two 6-sided dice to sum to 12 is: (6,6).\n",
       "\n",
       "Now, let's calculate the total number of possible outcomes when all three dice are rolled:\n",
       "- Each 6-sided die has 6 possible outcomes.\n",
       "- The octodice has 8 possible outcomes.\n",
       "- Therefore, the total number of possible outcomes is 6 * 6 * 8 = 288.\n",
       "\n",
       "Finally, we calculate the probability by dividing the number of successful outcomes (combinations that sum to eighteen) by the total number of possible outcomes:\n",
       "- There are 6 successful outcomes: (8,4,6), (8,5,5), (8,6,4), (7,5,6), (7,6,5), and (6,6,6).\n",
       "- Thus, the probability is 6/288.\n",
       "\n",
       "Simplifying 6/288 gives us 1/48.\n",
       "\n",
       "Therefore, the probability that the sum of the numbers rolled on two 6-sided dice and the octodice equals eighteen is 1/48."
      ],
      "text/plain": [
       "<IPython.core.display.Latex object>"
      ]
     },
     "metadata": {},
     "output_type": "display_data"
    }
   ],
   "source": [
    "dspy.configure(lm=lm1)\n",
    "math = dspy.ChainOfThought(\"context, question -> answer: float\")\n",
    "output_ = math(context = output2.reasoning, question=\"Two dice and one octodice are tossed. What is the probability that the sum equals 18?\")\n",
    "display(Latex(output_.reasoning))"
   ]
  },
  {
   "cell_type": "code",
   "execution_count": 9,
   "id": "8095a4d1-2f5b-4572-b404-75dad05e89b7",
   "metadata": {},
   "outputs": [
    {
     "data": {
      "text/latex": [
       "To solve this problem, we need to understand the possible outcomes when rolling two standard six-sided dice and one octodice (an eight-sided die).\n",
       "\n",
       "1. **Two six-sided dice**: The possible sums range from 2 (1+1) to 12 (6+6). The maximum sum of two six-sided dice is 12.\n",
       "\n",
       "2. **One eight-sided die (octodice)**: The possible outcomes range from 1 to 8.\n",
       "\n",
       "The goal is to find the probability that the sum of the numbers on the two six-sided dice and the octodice equals 18.\n",
       "\n",
       "- The maximum sum of the two six-sided dice is 12. Therefore, to achieve a total sum of 18, the octodice must show a number that, when added to the sum of the two six-sided dice, equals 18.\n",
       "- If the two six-sided dice show a sum of 12, the octodice must show 6 to reach a total of 18 (since 12 + 6 = 18).\n",
       "\n",
       "Now, let's calculate the probability:\n",
       "\n",
       "- **Probability of rolling a sum of 12 with two six-sided dice**: There is only one combination to achieve this: (6, 6). The probability of rolling a 6 on one die is 1/6, and since the dice are independent, the probability of rolling two 6s is (1/6) * (1/6) = 1/36.\n",
       "\n",
       "- **Probability of rolling a 6 on the octodice**: Since the octodice has 8 sides, the probability of rolling a 6 is 1/8.\n",
       "\n",
       "- **Combined probability**: Since the events are independent, the probability of both events occurring (rolling a sum of 12 on the two dice and a 6 on the octodice) is the product of their individual probabilities: (1/36) * (1/8) = 1/288.\n",
       "\n",
       "Therefore, the probability that the sum equals 18 is 1/288."
      ],
      "text/plain": [
       "<IPython.core.display.Latex object>"
      ]
     },
     "metadata": {},
     "output_type": "display_data"
    }
   ],
   "source": [
    "math = dspy.ChainOfThought(\"question -> answer: float\")\n",
    "output_ = math(question=\"Two dice and one octodice are tossed. What is the probability that the sum equals 18?\")\n",
    "display(Latex(output_.reasoning))"
   ]
  },
  {
   "cell_type": "code",
   "execution_count": null,
   "id": "3311373f-ca4c-43be-861c-5e4216beccf5",
   "metadata": {},
   "outputs": [],
   "source": []
  }
 ],
 "metadata": {
  "kernelspec": {
   "display_name": "Python 3 (ipykernel)",
   "language": "python",
   "name": "python3"
  },
  "language_info": {
   "codemirror_mode": {
    "name": "ipython",
    "version": 3
   },
   "file_extension": ".py",
   "mimetype": "text/x-python",
   "name": "python",
   "nbconvert_exporter": "python",
   "pygments_lexer": "ipython3",
   "version": "3.10.12"
  }
 },
 "nbformat": 4,
 "nbformat_minor": 5
}
