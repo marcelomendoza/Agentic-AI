{
 "cells": [
  {
   "cell_type": "markdown",
   "id": "0b290961",
   "metadata": {},
   "source": [
    "# Summer Institute in Computational Social Science 2025"
   ]
  },
  {
   "cell_type": "code",
   "execution_count": 1,
   "id": "6d01e820-d501-4a1f-995f-ffe8d90e6061",
   "metadata": {},
   "outputs": [],
   "source": [
    "import dspy\n",
    "\n",
    "lm = dspy.LM('openai/gpt-4o', api_key='API_KEY')\n",
    "dspy.configure(lm=lm)"
   ]
  },
  {
   "cell_type": "code",
   "execution_count": 2,
   "id": "8ddfdd6f-6d65-42f9-a55e-0166bd3310b0",
   "metadata": {},
   "outputs": [],
   "source": [
    "import random\n",
    "from dspy.datasets import DataLoader\n",
    "\n",
    "kwargs = dict(fields=(\"claim\", \"supporting_facts\", \"hpqa_id\", \"num_hops\"), input_keys=(\"claim\",))\n",
    "hover = DataLoader().from_huggingface(dataset_name=\"hover-nlp/hover\", split=\"train\", trust_remote_code=True, **kwargs)\n",
    "\n",
    "hpqa_ids = set()\n",
    "hover = [\n",
    "    dspy.Example(claim=x.claim, titles=list(set([y[\"key\"] for y in x.supporting_facts]))).with_inputs(\"claim\")\n",
    "    for x in hover\n",
    "    if x[\"num_hops\"] == 3 and x[\"hpqa_id\"] not in hpqa_ids and not hpqa_ids.add(x[\"hpqa_id\"])\n",
    "]\n",
    "\n",
    "random.Random(0).shuffle(hover)\n",
    "trainset, devset, testset = hover[:100], hover[100:200], hover[650:]"
   ]
  },
  {
   "cell_type": "code",
   "execution_count": 3,
   "id": "6e5cb9f0-d68e-4305-beb0-07a556d60645",
   "metadata": {},
   "outputs": [
    {
     "name": "stdout",
     "output_type": "stream",
     "text": [
      "Claim: This director is known for his work on Miss Potter. The Academy of Motion Picture Arts and Sciences presents the award in which he was nominated for his work in \"Babe\".\n",
      "Pages that must be retrieved: ['Academy Award for Best Director', 'Chris Noonan', 'Miss Potter']\n"
     ]
    }
   ],
   "source": [
    "example = trainset[0]\n",
    "\n",
    "print(\"Claim:\", example.claim)\n",
    "print(\"Pages that must be retrieved:\", example.titles)"
   ]
  },
  {
   "cell_type": "code",
   "execution_count": 4,
   "id": "1f596672-844d-4d6a-979d-72f4262e8592",
   "metadata": {},
   "outputs": [],
   "source": [
    "def search_wikipedia(query: str) -> list[str]:\n",
    "    \"\"\"Returns top-10 results.\"\"\"\n",
    "\n",
    "    topK = search(query, k=10)\n",
    "    return topK\n",
    "\n",
    "def lookup_wikipedia(title: str) -> str:\n",
    "    \"\"\"Returns the text of the Wikipedia page, if it exists.\"\"\"\n",
    "\n",
    "    if title in DOCS:\n",
    "        return DOCS[title]\n",
    "\n",
    "    results = [x for x in search(title, 10) if x.startswith(title + \" | \")]\n",
    "    if not results:\n",
    "        return f\"No Wikipedia page found for title: {title}\"\n",
    "    return results[0]"
   ]
  },
  {
   "cell_type": "code",
   "execution_count": 5,
   "id": "264527ea-c65c-4fe8-9633-9b78120f4eeb",
   "metadata": {},
   "outputs": [],
   "source": [
    "DOCS = {}\n",
    "\n",
    "def search(query: str, k: int) -> list[str]:\n",
    "    results = dspy.ColBERTv2(url='http://20.102.90.50:2017/wiki17_abstracts')(query, k=k)\n",
    "    results = [x['text'] for x in results]\n",
    "\n",
    "    for result in results:\n",
    "        title, text = result.split(\" | \", 1)\n",
    "        DOCS[title] = text\n",
    "\n",
    "    return results"
   ]
  },
  {
   "cell_type": "code",
   "execution_count": 6,
   "id": "d2a0095b-bdca-4578-b8ab-e215b535632e",
   "metadata": {},
   "outputs": [],
   "source": [
    "instructions = \"Find all Wikipedia titles relevant to verifying (or refuting) the claim.\"\n",
    "signature = dspy.Signature(\"claim -> titles: list[str]\", instructions)\n",
    "react = dspy.ReAct(signature, tools=[search_wikipedia, lookup_wikipedia], max_iters=20)"
   ]
  },
  {
   "cell_type": "code",
   "execution_count": 7,
   "id": "7c936cf9-cbbc-4e90-a2f2-a11184015f54",
   "metadata": {},
   "outputs": [
    {
     "data": {
      "text/plain": [
       "['David Gregory (physician)']"
      ]
     },
     "execution_count": 7,
     "metadata": {},
     "output_type": "execute_result"
    }
   ],
   "source": [
    "react(claim=\"David Gregory was born in 1625.\").titles[:3]"
   ]
  },
  {
   "cell_type": "code",
   "execution_count": 8,
   "id": "4d6dfe2e-09e8-4bdf-9bcc-afcdd361a00c",
   "metadata": {},
   "outputs": [],
   "source": [
    "def top5_recall(example, pred, trace=None):\n",
    "    gold_titles = example.titles\n",
    "    recall = sum(x in pred.titles[:5] for x in gold_titles) / len(gold_titles)\n",
    "\n",
    "    # If we're \"bootstrapping\" for optimization, return True if and only if the recall is perfect.\n",
    "    if trace is not None:\n",
    "        return recall >= 1.0\n",
    "    \n",
    "    # If we're just doing inference, just measure the recall.\n",
    "    return recall\n",
    "\n",
    "evaluate = dspy.Evaluate(devset=devset, metric=top5_recall, num_threads=16, display_progress=True, display_table=10)"
   ]
  },
  {
   "cell_type": "code",
   "execution_count": 9,
   "id": "c2a513b8-c19b-41a3-8f23-6b03d04ee587",
   "metadata": {},
   "outputs": [
    {
     "name": "stdout",
     "output_type": "stream",
     "text": [
      "Average Metric: 79.00 / 100 (79.0%): 100%|████████████████████████████████████████████| 100/100 [01:46<00:00,  1.07s/it]"
     ]
    },
    {
     "name": "stderr",
     "output_type": "stream",
     "text": [
      "2025/01/08 10:25:16 INFO dspy.evaluate.evaluate: Average Metric: 78.99999999999999 / 100 (79.0%)\n"
     ]
    },
    {
     "name": "stdout",
     "output_type": "stream",
     "text": [
      "\n"
     ]
    },
    {
     "data": {
      "text/html": [
       "<div>\n",
       "<style scoped>\n",
       "    .dataframe tbody tr th:only-of-type {\n",
       "        vertical-align: middle;\n",
       "    }\n",
       "\n",
       "    .dataframe tbody tr th {\n",
       "        vertical-align: top;\n",
       "    }\n",
       "\n",
       "    .dataframe thead th {\n",
       "        text-align: right;\n",
       "    }\n",
       "</style>\n",
       "<table border=\"1\" class=\"dataframe\">\n",
       "  <thead>\n",
       "    <tr style=\"text-align: right;\">\n",
       "      <th></th>\n",
       "      <th>claim</th>\n",
       "      <th>example_titles</th>\n",
       "      <th>trajectory</th>\n",
       "      <th>reasoning</th>\n",
       "      <th>pred_titles</th>\n",
       "      <th>top5_recall</th>\n",
       "    </tr>\n",
       "  </thead>\n",
       "  <tbody>\n",
       "    <tr>\n",
       "      <th>0</th>\n",
       "      <td>The Church of England's movement that inspired the Trinity Episcop...</td>\n",
       "      <td>[Oxford Movement, Samuel Rickards, Trinity Episcopal Church (Hough...</td>\n",
       "      <td>{'thought_0': 'To verify the claim, I need to identify the specifi...</td>\n",
       "      <td>The claim states that the Church of England's movement that inspir...</td>\n",
       "      <td>[Trinity Episcopal Church (Houghton, Michigan), Oxford Movement, S...</td>\n",
       "      <td>✔️ [1.000]</td>\n",
       "    </tr>\n",
       "    <tr>\n",
       "      <th>1</th>\n",
       "      <td>Red, White &amp; Crüe and this athlete both fight. The french fighter ...</td>\n",
       "      <td>[Red, White &amp;amp; Crüe, Mike Tyson, Bobby Stewart]</td>\n",
       "      <td>{'thought_0': 'The claim mentions \"Red, White &amp; Crüe\" and a French...</td>\n",
       "      <td>The claim suggests a connection between \"Red, White &amp; Crüe\" and a ...</td>\n",
       "      <td>[Red, White &amp; Crüe, Bobby Stewart, Mike Tyson]</td>\n",
       "      <td>✔️ [0.667]</td>\n",
       "    </tr>\n",
       "    <tr>\n",
       "      <th>2</th>\n",
       "      <td>The writer/director/actor from Glen or Glenda and Fernand Rivers s...</td>\n",
       "      <td>[Glen or Glenda, Fernand Rivers, Ed Wood]</td>\n",
       "      <td>{'thought_0': 'To verify the claim, I need to find information abo...</td>\n",
       "      <td>The claim states that the writer/director/actor from \"Glen or Glen...</td>\n",
       "      <td>[Ed Wood, Fernand Rivers, Glen or Glenda]</td>\n",
       "      <td>✔️ [1.000]</td>\n",
       "    </tr>\n",
       "    <tr>\n",
       "      <th>3</th>\n",
       "      <td>The film by Sandi Sissel was released before The End of Suburbia.</td>\n",
       "      <td>[Chicken Ranch (film), The End of Suburbia, Sandi Sissel]</td>\n",
       "      <td>{'thought_0': 'To verify the claim, I need to find the release dat...</td>\n",
       "      <td>To verify the claim, I searched for films associated with Sandi Si...</td>\n",
       "      <td>[Salaam Bombay!, Chicken Ranch, The End of Suburbia]</td>\n",
       "      <td>✔️ [0.333]</td>\n",
       "    </tr>\n",
       "    <tr>\n",
       "      <th>4</th>\n",
       "      <td>The actor who played captain hook in the live production with Tayl...</td>\n",
       "      <td>[Peter Pan Live!, Taylor Louderman, Christopher Walken]</td>\n",
       "      <td>{'thought_0': 'To verify this claim, I need to identify the actor ...</td>\n",
       "      <td>The claim states that the actor who played Captain Hook in the liv...</td>\n",
       "      <td>[Christopher Walken, Peter Pan Live!, The Deer Hunter]</td>\n",
       "      <td>✔️ [0.667]</td>\n",
       "    </tr>\n",
       "    <tr>\n",
       "      <th>5</th>\n",
       "      <td>The movie, based on a story written by brothers who are interred a...</td>\n",
       "      <td>[Alter St.-Matthäus-Kirchhof, The Princess and the Frog, The Frog ...</td>\n",
       "      <td>{'thought_0': 'To verify the claim, I need to identify the movie i...</td>\n",
       "      <td>The claim is that a movie based on a story written by brothers int...</td>\n",
       "      <td>[The Brothers Grimm (film), Brothers Grimm, Iron Henry]</td>\n",
       "      <td></td>\n",
       "    </tr>\n",
       "    <tr>\n",
       "      <th>6</th>\n",
       "      <td>Federated Auto Parts 400 is an annual Monster Energy NASCAR Cup Se...</td>\n",
       "      <td>[Toyota Owners 400, Crown Royal, Federated Auto Parts 400]</td>\n",
       "      <td>{'thought_0': 'To verify the claim, I need to find information abo...</td>\n",
       "      <td>The claim states that the Federated Auto Parts 400 is an annual NA...</td>\n",
       "      <td>[Federated Auto Parts 400, Toyota Owners 400, Crown Royal]</td>\n",
       "      <td>✔️ [1.000]</td>\n",
       "    </tr>\n",
       "    <tr>\n",
       "      <th>7</th>\n",
       "      <td>The child actor, who played the character Fenmore Baldwin, plays i...</td>\n",
       "      <td>[Robbie Tucker, Fenmore Baldwin, It's Always Sunny in Philadelphia]</td>\n",
       "      <td>{'thought_0': 'First, I need to identify the child actor who playe...</td>\n",
       "      <td>The claim states that the child actor who played Fenmore Baldwin i...</td>\n",
       "      <td>[Robbie Tucker, It's Always Sunny in Philadelphia, Fenmore Baldwin...</td>\n",
       "      <td>✔️ [1.000]</td>\n",
       "    </tr>\n",
       "    <tr>\n",
       "      <th>8</th>\n",
       "      <td>An actor played the role of \"Annabelle\" in the film The Fruit Mach...</td>\n",
       "      <td>[The Fruit Machine, Rubeus Hagrid, Robbie Coltrane]</td>\n",
       "      <td>{'thought_0': 'The claim involves an actor who played \"Annabelle\" ...</td>\n",
       "      <td>The claim states that an actor played the role of \"Annabelle\" in t...</td>\n",
       "      <td>[The Fruit Machine (film), Robbie Coltrane, Harry Potter (film ser...</td>\n",
       "      <td>✔️ [0.333]</td>\n",
       "    </tr>\n",
       "    <tr>\n",
       "      <th>9</th>\n",
       "      <td>The father of the founder of St Hugh's College, Oxford, was a bish...</td>\n",
       "      <td>[St Hugh's College, Oxford, Elizabeth Wordsworth, Christopher Word...</td>\n",
       "      <td>{'thought_0': \"To verify the claim, I need to identify the founder...</td>\n",
       "      <td>The claim states that the father of the founder of St Hugh's Colle...</td>\n",
       "      <td>[Elizabeth Wordsworth, Christopher Wordsworth, St Hugh's College, ...</td>\n",
       "      <td>✔️ [1.000]</td>\n",
       "    </tr>\n",
       "  </tbody>\n",
       "</table>\n",
       "</div>"
      ],
      "text/plain": [
       "                                                                   claim  \\\n",
       "0  The Church of England's movement that inspired the Trinity Episcop...   \n",
       "1  Red, White & Crüe and this athlete both fight. The french fighter ...   \n",
       "2  The writer/director/actor from Glen or Glenda and Fernand Rivers s...   \n",
       "3      The film by Sandi Sissel was released before The End of Suburbia.   \n",
       "4  The actor who played captain hook in the live production with Tayl...   \n",
       "5  The movie, based on a story written by brothers who are interred a...   \n",
       "6  Federated Auto Parts 400 is an annual Monster Energy NASCAR Cup Se...   \n",
       "7  The child actor, who played the character Fenmore Baldwin, plays i...   \n",
       "8  An actor played the role of \"Annabelle\" in the film The Fruit Mach...   \n",
       "9  The father of the founder of St Hugh's College, Oxford, was a bish...   \n",
       "\n",
       "                                                          example_titles  \\\n",
       "0  [Oxford Movement, Samuel Rickards, Trinity Episcopal Church (Hough...   \n",
       "1                     [Red, White &amp; Crüe, Mike Tyson, Bobby Stewart]   \n",
       "2                              [Glen or Glenda, Fernand Rivers, Ed Wood]   \n",
       "3              [Chicken Ranch (film), The End of Suburbia, Sandi Sissel]   \n",
       "4                [Peter Pan Live!, Taylor Louderman, Christopher Walken]   \n",
       "5  [Alter St.-Matthäus-Kirchhof, The Princess and the Frog, The Frog ...   \n",
       "6             [Toyota Owners 400, Crown Royal, Federated Auto Parts 400]   \n",
       "7    [Robbie Tucker, Fenmore Baldwin, It's Always Sunny in Philadelphia]   \n",
       "8                    [The Fruit Machine, Rubeus Hagrid, Robbie Coltrane]   \n",
       "9  [St Hugh's College, Oxford, Elizabeth Wordsworth, Christopher Word...   \n",
       "\n",
       "                                                              trajectory  \\\n",
       "0  {'thought_0': 'To verify the claim, I need to identify the specifi...   \n",
       "1  {'thought_0': 'The claim mentions \"Red, White & Crüe\" and a French...   \n",
       "2  {'thought_0': 'To verify the claim, I need to find information abo...   \n",
       "3  {'thought_0': 'To verify the claim, I need to find the release dat...   \n",
       "4  {'thought_0': 'To verify this claim, I need to identify the actor ...   \n",
       "5  {'thought_0': 'To verify the claim, I need to identify the movie i...   \n",
       "6  {'thought_0': 'To verify the claim, I need to find information abo...   \n",
       "7  {'thought_0': 'First, I need to identify the child actor who playe...   \n",
       "8  {'thought_0': 'The claim involves an actor who played \"Annabelle\" ...   \n",
       "9  {'thought_0': \"To verify the claim, I need to identify the founder...   \n",
       "\n",
       "                                                               reasoning  \\\n",
       "0  The claim states that the Church of England's movement that inspir...   \n",
       "1  The claim suggests a connection between \"Red, White & Crüe\" and a ...   \n",
       "2  The claim states that the writer/director/actor from \"Glen or Glen...   \n",
       "3  To verify the claim, I searched for films associated with Sandi Si...   \n",
       "4  The claim states that the actor who played Captain Hook in the liv...   \n",
       "5  The claim is that a movie based on a story written by brothers int...   \n",
       "6  The claim states that the Federated Auto Parts 400 is an annual NA...   \n",
       "7  The claim states that the child actor who played Fenmore Baldwin i...   \n",
       "8  The claim states that an actor played the role of \"Annabelle\" in t...   \n",
       "9  The claim states that the father of the founder of St Hugh's Colle...   \n",
       "\n",
       "                                                             pred_titles  \\\n",
       "0  [Trinity Episcopal Church (Houghton, Michigan), Oxford Movement, S...   \n",
       "1                         [Red, White & Crüe, Bobby Stewart, Mike Tyson]   \n",
       "2                              [Ed Wood, Fernand Rivers, Glen or Glenda]   \n",
       "3                   [Salaam Bombay!, Chicken Ranch, The End of Suburbia]   \n",
       "4                 [Christopher Walken, Peter Pan Live!, The Deer Hunter]   \n",
       "5                [The Brothers Grimm (film), Brothers Grimm, Iron Henry]   \n",
       "6             [Federated Auto Parts 400, Toyota Owners 400, Crown Royal]   \n",
       "7  [Robbie Tucker, It's Always Sunny in Philadelphia, Fenmore Baldwin...   \n",
       "8  [The Fruit Machine (film), Robbie Coltrane, Harry Potter (film ser...   \n",
       "9  [Elizabeth Wordsworth, Christopher Wordsworth, St Hugh's College, ...   \n",
       "\n",
       "  top5_recall  \n",
       "0  ✔️ [1.000]  \n",
       "1  ✔️ [0.667]  \n",
       "2  ✔️ [1.000]  \n",
       "3  ✔️ [0.333]  \n",
       "4  ✔️ [0.667]  \n",
       "5              \n",
       "6  ✔️ [1.000]  \n",
       "7  ✔️ [1.000]  \n",
       "8  ✔️ [0.333]  \n",
       "9  ✔️ [1.000]  "
      ]
     },
     "metadata": {},
     "output_type": "display_data"
    },
    {
     "data": {
      "text/html": [
       "\n",
       "                <div style='\n",
       "                    text-align: center;\n",
       "                    font-size: 16px;\n",
       "                    font-weight: bold;\n",
       "                    color: #555;\n",
       "                    margin: 10px 0;'>\n",
       "                    ... 90 more rows not displayed ...\n",
       "                </div>\n",
       "                "
      ],
      "text/plain": [
       "<IPython.core.display.HTML object>"
      ]
     },
     "metadata": {},
     "output_type": "display_data"
    },
    {
     "data": {
      "text/plain": [
       "79.0"
      ]
     },
     "execution_count": 9,
     "metadata": {},
     "output_type": "execute_result"
    }
   ],
   "source": [
    "def safe_react(claim: str):\n",
    "    try:\n",
    "        return react(claim=claim)\n",
    "    except Exception as e:\n",
    "        return dspy.Prediction(titles=[])\n",
    "\n",
    "evaluate(safe_react)"
   ]
  },
  {
   "cell_type": "code",
   "execution_count": null,
   "id": "25c358bb-e8a9-4f37-90a4-c6cf09889f80",
   "metadata": {},
   "outputs": [],
   "source": []
  }
 ],
 "metadata": {
  "kernelspec": {
   "display_name": "Python 3 (ipykernel)",
   "language": "python",
   "name": "python3"
  },
  "language_info": {
   "codemirror_mode": {
    "name": "ipython",
    "version": 3
   },
   "file_extension": ".py",
   "mimetype": "text/x-python",
   "name": "python",
   "nbconvert_exporter": "python",
   "pygments_lexer": "ipython3",
   "version": "3.10.12"
  }
 },
 "nbformat": 4,
 "nbformat_minor": 5
}
